{
 "cells": [
  {
   "cell_type": "markdown",
   "metadata": {},
   "source": [
    "## Author:Ronak Patel\n",
    "Using Pandas library \n",
    "Diffrent type of function, i had use to create report I could have used the same method to do all the requriment,\n",
    "but going by diffrent approach every time I would explore more area of pandas library.\n"
   ]
  },
  {
   "cell_type": "code",
   "execution_count": 1,
   "metadata": {},
   "outputs": [],
   "source": [
    "import pandas as p\n",
    "import numpy as np\n",
    "from sqlalchemy import create_engine\n",
    "import matplotlib.pyplot as mat\n",
    "%matplotlib inline\n"
   ]
  },
  {
   "cell_type": "code",
   "execution_count": 2,
   "metadata": {},
   "outputs": [
    {
     "name": "stdout",
     "output_type": "stream",
     "text": [
      "<class 'pandas.core.frame.DataFrame'>\n",
      "RangeIndex: 26052 entries, 0 to 26051\n",
      "Data columns (total 6 columns):\n",
      " #   Column     Non-Null Count  Dtype \n",
      "---  ------     --------------  ----- \n",
      " 0   City       26052 non-null  object\n",
      " 1   Date       26052 non-null  object\n",
      " 2   Card Type  26052 non-null  object\n",
      " 3   Exp Type   26052 non-null  object\n",
      " 4   Gender     26052 non-null  object\n",
      " 5   Amount     26052 non-null  int64 \n",
      "dtypes: int64(1), object(5)\n",
      "memory usage: 1.2+ MB\n"
     ]
    }
   ],
   "source": [
    "data = p.read_csv('a4.csv')\n",
    "data.info()"
   ]
  },
  {
   "cell_type": "code",
   "execution_count": 196,
   "metadata": {},
   "outputs": [
    {
     "name": "stdout",
     "output_type": "stream",
     "text": [
      "<class 'pandas.core.frame.DataFrame'>\n",
      "RangeIndex: 26052 entries, 0 to 26051\n",
      "Data columns (total 6 columns):\n",
      " #   Column     Non-Null Count  Dtype         \n",
      "---  ------     --------------  -----         \n",
      " 0   City       26052 non-null  object        \n",
      " 1   Date       26052 non-null  datetime64[ns]\n",
      " 2   Card Type  26052 non-null  object        \n",
      " 3   Exp Type   26052 non-null  object        \n",
      " 4   Gender     26052 non-null  object        \n",
      " 5   Amount     26052 non-null  int64         \n",
      "dtypes: datetime64[ns](1), int64(1), object(4)\n",
      "memory usage: 1.2+ MB\n"
     ]
    }
   ],
   "source": [
    "data['Date']= p.to_datetime(data['Date'])\n",
    "data.info()"
   ]
  },
  {
   "cell_type": "code",
   "execution_count": 197,
   "metadata": {
    "scrolled": true
   },
   "outputs": [
    {
     "data": {
      "text/html": [
       "<div>\n",
       "<style scoped>\n",
       "    .dataframe tbody tr th:only-of-type {\n",
       "        vertical-align: middle;\n",
       "    }\n",
       "\n",
       "    .dataframe tbody tr th {\n",
       "        vertical-align: top;\n",
       "    }\n",
       "\n",
       "    .dataframe thead th {\n",
       "        text-align: right;\n",
       "    }\n",
       "</style>\n",
       "<table border=\"1\" class=\"dataframe\">\n",
       "  <thead>\n",
       "    <tr style=\"text-align: right;\">\n",
       "      <th></th>\n",
       "      <th>City</th>\n",
       "      <th>Card Type</th>\n",
       "      <th>Exp Type</th>\n",
       "      <th>Gender</th>\n",
       "      <th>Amount</th>\n",
       "    </tr>\n",
       "    <tr>\n",
       "      <th>Date</th>\n",
       "      <th></th>\n",
       "      <th></th>\n",
       "      <th></th>\n",
       "      <th></th>\n",
       "      <th></th>\n",
       "    </tr>\n",
       "  </thead>\n",
       "  <tbody>\n",
       "    <tr>\n",
       "      <th>2014-10-29</th>\n",
       "      <td>Delhi, India</td>\n",
       "      <td>Gold</td>\n",
       "      <td>Bills</td>\n",
       "      <td>F</td>\n",
       "      <td>82475</td>\n",
       "    </tr>\n",
       "    <tr>\n",
       "      <th>2014-08-22</th>\n",
       "      <td>Greater Mumbai, India</td>\n",
       "      <td>Platinum</td>\n",
       "      <td>Bills</td>\n",
       "      <td>F</td>\n",
       "      <td>32555</td>\n",
       "    </tr>\n",
       "    <tr>\n",
       "      <th>2014-08-27</th>\n",
       "      <td>Bengaluru, India</td>\n",
       "      <td>Silver</td>\n",
       "      <td>Bills</td>\n",
       "      <td>F</td>\n",
       "      <td>101738</td>\n",
       "    </tr>\n",
       "    <tr>\n",
       "      <th>2014-04-12</th>\n",
       "      <td>Greater Mumbai, India</td>\n",
       "      <td>Signature</td>\n",
       "      <td>Bills</td>\n",
       "      <td>F</td>\n",
       "      <td>123424</td>\n",
       "    </tr>\n",
       "    <tr>\n",
       "      <th>2015-05-05</th>\n",
       "      <td>Bengaluru, India</td>\n",
       "      <td>Gold</td>\n",
       "      <td>Bills</td>\n",
       "      <td>F</td>\n",
       "      <td>171574</td>\n",
       "    </tr>\n",
       "    <tr>\n",
       "      <th>...</th>\n",
       "      <td>...</td>\n",
       "      <td>...</td>\n",
       "      <td>...</td>\n",
       "      <td>...</td>\n",
       "      <td>...</td>\n",
       "    </tr>\n",
       "    <tr>\n",
       "      <th>2014-06-22</th>\n",
       "      <td>Kolkata, India</td>\n",
       "      <td>Silver</td>\n",
       "      <td>Travel</td>\n",
       "      <td>F</td>\n",
       "      <td>128191</td>\n",
       "    </tr>\n",
       "    <tr>\n",
       "      <th>2014-08-03</th>\n",
       "      <td>Pune, India</td>\n",
       "      <td>Signature</td>\n",
       "      <td>Travel</td>\n",
       "      <td>M</td>\n",
       "      <td>246316</td>\n",
       "    </tr>\n",
       "    <tr>\n",
       "      <th>2015-01-16</th>\n",
       "      <td>Hyderabad, India</td>\n",
       "      <td>Silver</td>\n",
       "      <td>Travel</td>\n",
       "      <td>M</td>\n",
       "      <td>265019</td>\n",
       "    </tr>\n",
       "    <tr>\n",
       "      <th>2014-09-14</th>\n",
       "      <td>Kanpur, India</td>\n",
       "      <td>Silver</td>\n",
       "      <td>Travel</td>\n",
       "      <td>M</td>\n",
       "      <td>88174</td>\n",
       "    </tr>\n",
       "    <tr>\n",
       "      <th>2013-10-19</th>\n",
       "      <td>Hyderabad, India</td>\n",
       "      <td>Signature</td>\n",
       "      <td>Bills</td>\n",
       "      <td>M</td>\n",
       "      <td>184410</td>\n",
       "    </tr>\n",
       "  </tbody>\n",
       "</table>\n",
       "<p>26052 rows × 5 columns</p>\n",
       "</div>"
      ],
      "text/plain": [
       "                             City  Card Type Exp Type Gender  Amount\n",
       "Date                                                                \n",
       "2014-10-29           Delhi, India       Gold    Bills      F   82475\n",
       "2014-08-22  Greater Mumbai, India   Platinum    Bills      F   32555\n",
       "2014-08-27       Bengaluru, India     Silver    Bills      F  101738\n",
       "2014-04-12  Greater Mumbai, India  Signature    Bills      F  123424\n",
       "2015-05-05       Bengaluru, India       Gold    Bills      F  171574\n",
       "...                           ...        ...      ...    ...     ...\n",
       "2014-06-22         Kolkata, India     Silver   Travel      F  128191\n",
       "2014-08-03            Pune, India  Signature   Travel      M  246316\n",
       "2015-01-16       Hyderabad, India     Silver   Travel      M  265019\n",
       "2014-09-14          Kanpur, India     Silver   Travel      M   88174\n",
       "2013-10-19       Hyderabad, India  Signature    Bills      M  184410\n",
       "\n",
       "[26052 rows x 5 columns]"
      ]
     },
     "execution_count": 197,
     "metadata": {},
     "output_type": "execute_result"
    }
   ],
   "source": [
    "data.set_index('Date', inplace=True);data\n"
   ]
  },
  {
   "cell_type": "code",
   "execution_count": 198,
   "metadata": {},
   "outputs": [
    {
     "data": {
      "text/html": [
       "<div>\n",
       "<style scoped>\n",
       "    .dataframe tbody tr th:only-of-type {\n",
       "        vertical-align: middle;\n",
       "    }\n",
       "\n",
       "    .dataframe tbody tr th {\n",
       "        vertical-align: top;\n",
       "    }\n",
       "\n",
       "    .dataframe thead th {\n",
       "        text-align: right;\n",
       "    }\n",
       "</style>\n",
       "<table border=\"1\" class=\"dataframe\">\n",
       "  <thead>\n",
       "    <tr style=\"text-align: right;\">\n",
       "      <th></th>\n",
       "      <th>Date</th>\n",
       "      <th>Amount</th>\n",
       "    </tr>\n",
       "  </thead>\n",
       "  <tbody>\n",
       "    <tr>\n",
       "      <th>0</th>\n",
       "      <td>2013-12-31</td>\n",
       "      <td>613643884</td>\n",
       "    </tr>\n",
       "    <tr>\n",
       "      <th>1</th>\n",
       "      <td>2014-12-31</td>\n",
       "      <td>2454714033</td>\n",
       "    </tr>\n",
       "    <tr>\n",
       "      <th>2</th>\n",
       "      <td>2015-12-31</td>\n",
       "      <td>1006475456</td>\n",
       "    </tr>\n",
       "  </tbody>\n",
       "</table>\n",
       "</div>"
      ],
      "text/plain": [
       "        Date      Amount\n",
       "0 2013-12-31   613643884\n",
       "1 2014-12-31  2454714033\n",
       "2 2015-12-31  1006475456"
      ]
     },
     "execution_count": 198,
     "metadata": {},
     "output_type": "execute_result"
    }
   ],
   "source": [
    "year = data.resample('A').sum()\n",
    "year = year.reset_index();year\n"
   ]
  },
  {
   "cell_type": "code",
   "execution_count": 199,
   "metadata": {},
   "outputs": [
    {
     "data": {
      "text/html": [
       "<div>\n",
       "<style scoped>\n",
       "    .dataframe tbody tr th:only-of-type {\n",
       "        vertical-align: middle;\n",
       "    }\n",
       "\n",
       "    .dataframe tbody tr th {\n",
       "        vertical-align: top;\n",
       "    }\n",
       "\n",
       "    .dataframe thead th {\n",
       "        text-align: right;\n",
       "    }\n",
       "</style>\n",
       "<table border=\"1\" class=\"dataframe\">\n",
       "  <thead>\n",
       "    <tr style=\"text-align: right;\">\n",
       "      <th></th>\n",
       "      <th></th>\n",
       "      <th>Amount</th>\n",
       "    </tr>\n",
       "    <tr>\n",
       "      <th>City</th>\n",
       "      <th>Date</th>\n",
       "      <th></th>\n",
       "    </tr>\n",
       "  </thead>\n",
       "  <tbody>\n",
       "    <tr>\n",
       "      <th rowspan=\"5\" valign=\"top\">Achalpur, India</th>\n",
       "      <th>2013-12-06</th>\n",
       "      <td>201032</td>\n",
       "    </tr>\n",
       "    <tr>\n",
       "      <th>2014-02-06</th>\n",
       "      <td>178612</td>\n",
       "    </tr>\n",
       "    <tr>\n",
       "      <th>2014-04-19</th>\n",
       "      <td>138246</td>\n",
       "    </tr>\n",
       "    <tr>\n",
       "      <th>2014-05-29</th>\n",
       "      <td>55347</td>\n",
       "    </tr>\n",
       "    <tr>\n",
       "      <th>2014-05-30</th>\n",
       "      <td>216180</td>\n",
       "    </tr>\n",
       "    <tr>\n",
       "      <th>...</th>\n",
       "      <th>...</th>\n",
       "      <td>...</td>\n",
       "    </tr>\n",
       "    <tr>\n",
       "      <th rowspan=\"2\" valign=\"top\">Zirakpur, India</th>\n",
       "      <th>2014-12-08</th>\n",
       "      <td>175566</td>\n",
       "    </tr>\n",
       "    <tr>\n",
       "      <th>2015-04-08</th>\n",
       "      <td>289172</td>\n",
       "    </tr>\n",
       "    <tr>\n",
       "      <th rowspan=\"3\" valign=\"top\">Zunheboto, India</th>\n",
       "      <th>2013-11-04</th>\n",
       "      <td>89271</td>\n",
       "    </tr>\n",
       "    <tr>\n",
       "      <th>2014-03-29</th>\n",
       "      <td>298567</td>\n",
       "    </tr>\n",
       "    <tr>\n",
       "      <th>2014-12-01</th>\n",
       "      <td>78591</td>\n",
       "    </tr>\n",
       "  </tbody>\n",
       "</table>\n",
       "<p>11766 rows × 1 columns</p>\n",
       "</div>"
      ],
      "text/plain": [
       "                             Amount\n",
       "City             Date              \n",
       "Achalpur, India  2013-12-06  201032\n",
       "                 2014-02-06  178612\n",
       "                 2014-04-19  138246\n",
       "                 2014-05-29   55347\n",
       "                 2014-05-30  216180\n",
       "...                             ...\n",
       "Zirakpur, India  2014-12-08  175566\n",
       "                 2015-04-08  289172\n",
       "Zunheboto, India 2013-11-04   89271\n",
       "                 2014-03-29  298567\n",
       "                 2014-12-01   78591\n",
       "\n",
       "[11766 rows x 1 columns]"
      ]
     },
     "execution_count": 199,
     "metadata": {},
     "output_type": "execute_result"
    }
   ],
   "source": [
    "city = data.groupby((['City']) + (['Date'])).sum()\n",
    "city"
   ]
  },
  {
   "cell_type": "code",
   "execution_count": 200,
   "metadata": {
    "scrolled": true
   },
   "outputs": [
    {
     "data": {
      "text/html": [
       "<div>\n",
       "<style scoped>\n",
       "    .dataframe tbody tr th:only-of-type {\n",
       "        vertical-align: middle;\n",
       "    }\n",
       "\n",
       "    .dataframe tbody tr th {\n",
       "        vertical-align: top;\n",
       "    }\n",
       "\n",
       "    .dataframe thead th {\n",
       "        text-align: right;\n",
       "    }\n",
       "</style>\n",
       "<table border=\"1\" class=\"dataframe\">\n",
       "  <thead>\n",
       "    <tr style=\"text-align: right;\">\n",
       "      <th></th>\n",
       "      <th>City</th>\n",
       "      <th>Date</th>\n",
       "      <th>Amount</th>\n",
       "    </tr>\n",
       "  </thead>\n",
       "  <tbody>\n",
       "    <tr>\n",
       "      <th>0</th>\n",
       "      <td>Achalpur, India</td>\n",
       "      <td>2013-12-06</td>\n",
       "      <td>201032</td>\n",
       "    </tr>\n",
       "    <tr>\n",
       "      <th>1</th>\n",
       "      <td>Achalpur, India</td>\n",
       "      <td>2014-02-06</td>\n",
       "      <td>178612</td>\n",
       "    </tr>\n",
       "    <tr>\n",
       "      <th>2</th>\n",
       "      <td>Achalpur, India</td>\n",
       "      <td>2014-04-19</td>\n",
       "      <td>138246</td>\n",
       "    </tr>\n",
       "    <tr>\n",
       "      <th>3</th>\n",
       "      <td>Achalpur, India</td>\n",
       "      <td>2014-05-29</td>\n",
       "      <td>55347</td>\n",
       "    </tr>\n",
       "    <tr>\n",
       "      <th>4</th>\n",
       "      <td>Achalpur, India</td>\n",
       "      <td>2014-05-30</td>\n",
       "      <td>216180</td>\n",
       "    </tr>\n",
       "    <tr>\n",
       "      <th>...</th>\n",
       "      <td>...</td>\n",
       "      <td>...</td>\n",
       "      <td>...</td>\n",
       "    </tr>\n",
       "    <tr>\n",
       "      <th>11761</th>\n",
       "      <td>Zirakpur, India</td>\n",
       "      <td>2014-12-08</td>\n",
       "      <td>175566</td>\n",
       "    </tr>\n",
       "    <tr>\n",
       "      <th>11762</th>\n",
       "      <td>Zirakpur, India</td>\n",
       "      <td>2015-04-08</td>\n",
       "      <td>289172</td>\n",
       "    </tr>\n",
       "    <tr>\n",
       "      <th>11763</th>\n",
       "      <td>Zunheboto, India</td>\n",
       "      <td>2013-11-04</td>\n",
       "      <td>89271</td>\n",
       "    </tr>\n",
       "    <tr>\n",
       "      <th>11764</th>\n",
       "      <td>Zunheboto, India</td>\n",
       "      <td>2014-03-29</td>\n",
       "      <td>298567</td>\n",
       "    </tr>\n",
       "    <tr>\n",
       "      <th>11765</th>\n",
       "      <td>Zunheboto, India</td>\n",
       "      <td>2014-12-01</td>\n",
       "      <td>78591</td>\n",
       "    </tr>\n",
       "  </tbody>\n",
       "</table>\n",
       "<p>11766 rows × 3 columns</p>\n",
       "</div>"
      ],
      "text/plain": [
       "                   City       Date  Amount\n",
       "0       Achalpur, India 2013-12-06  201032\n",
       "1       Achalpur, India 2014-02-06  178612\n",
       "2       Achalpur, India 2014-04-19  138246\n",
       "3       Achalpur, India 2014-05-29   55347\n",
       "4       Achalpur, India 2014-05-30  216180\n",
       "...                 ...        ...     ...\n",
       "11761   Zirakpur, India 2014-12-08  175566\n",
       "11762   Zirakpur, India 2015-04-08  289172\n",
       "11763  Zunheboto, India 2013-11-04   89271\n",
       "11764  Zunheboto, India 2014-03-29  298567\n",
       "11765  Zunheboto, India 2014-12-01   78591\n",
       "\n",
       "[11766 rows x 3 columns]"
      ]
     },
     "execution_count": 200,
     "metadata": {},
     "output_type": "execute_result"
    }
   ],
   "source": [
    "city = city.reset_index()\n",
    "city\n"
   ]
  },
  {
   "cell_type": "code",
   "execution_count": 201,
   "metadata": {
    "scrolled": true
   },
   "outputs": [],
   "source": [
    "year2013 = city.loc[(city['Date']<='2013-12-31')].sort_values(by='Amount',ascending=False)\n",
    "year2014 = city.loc[(city['Date']<='2014-12-31') & (city['Date'] > '2013-12-31') ].sort_values(by='Amount',ascending=False)\n",
    "year2015 = city.loc[(city['Date']<='2015-12-31') & (city['Date'] > '2014-12-31') ].sort_values(by='Amount',ascending=False)\n"
   ]
  },
  {
   "cell_type": "code",
   "execution_count": 202,
   "metadata": {
    "scrolled": false
   },
   "outputs": [
    {
     "data": {
      "text/html": [
       "<div>\n",
       "<style scoped>\n",
       "    .dataframe tbody tr th:only-of-type {\n",
       "        vertical-align: middle;\n",
       "    }\n",
       "\n",
       "    .dataframe tbody tr th {\n",
       "        vertical-align: top;\n",
       "    }\n",
       "\n",
       "    .dataframe thead th {\n",
       "        text-align: right;\n",
       "    }\n",
       "</style>\n",
       "<table border=\"1\" class=\"dataframe\">\n",
       "  <thead>\n",
       "    <tr style=\"text-align: right;\">\n",
       "      <th></th>\n",
       "      <th>City</th>\n",
       "      <th>Amount</th>\n",
       "    </tr>\n",
       "  </thead>\n",
       "  <tbody>\n",
       "    <tr>\n",
       "      <th>0</th>\n",
       "      <td>Delhi, India</td>\n",
       "      <td>145211065</td>\n",
       "    </tr>\n",
       "    <tr>\n",
       "      <th>1</th>\n",
       "      <td>Greater Mumbai, India</td>\n",
       "      <td>142306409</td>\n",
       "    </tr>\n",
       "    <tr>\n",
       "      <th>2</th>\n",
       "      <td>Ahmedabad, India</td>\n",
       "      <td>136213286</td>\n",
       "    </tr>\n",
       "    <tr>\n",
       "      <th>3</th>\n",
       "      <td>Bengaluru, India</td>\n",
       "      <td>135845357</td>\n",
       "    </tr>\n",
       "    <tr>\n",
       "      <th>4</th>\n",
       "      <td>Kolkata, India</td>\n",
       "      <td>30918731</td>\n",
       "    </tr>\n",
       "  </tbody>\n",
       "</table>\n",
       "</div>"
      ],
      "text/plain": [
       "                    City     Amount\n",
       "0           Delhi, India  145211065\n",
       "1  Greater Mumbai, India  142306409\n",
       "2       Ahmedabad, India  136213286\n",
       "3       Bengaluru, India  135845357\n",
       "4         Kolkata, India   30918731"
      ]
     },
     "execution_count": 202,
     "metadata": {},
     "output_type": "execute_result"
    }
   ],
   "source": [
    "\n",
    "year2013 = year2013.groupby(['City']).sum().sort_values(by='Amount',ascending=False).head(5)\n",
    "year2013 = year2013.reset_index();year2013\n",
    "\n",
    "\n",
    "year2014 = year2014.groupby(['City']).sum().sort_values(by='Amount',ascending=False).head(5)\n",
    "year2014 = year2014.reset_index();year2014\n",
    "\n",
    "\n",
    "year2015 = year2015.groupby(['City']).sum().sort_values(by='Amount',ascending=False).head(5)\n",
    "year2015 = year2015.reset_index();year2015\n",
    "\n",
    "year2015"
   ]
  },
  {
   "cell_type": "code",
   "execution_count": 203,
   "metadata": {
    "scrolled": false
   },
   "outputs": [
    {
     "data": {
      "text/html": [
       "<div>\n",
       "<style scoped>\n",
       "    .dataframe tbody tr th:only-of-type {\n",
       "        vertical-align: middle;\n",
       "    }\n",
       "\n",
       "    .dataframe tbody tr th {\n",
       "        vertical-align: top;\n",
       "    }\n",
       "\n",
       "    .dataframe thead th {\n",
       "        text-align: right;\n",
       "    }\n",
       "</style>\n",
       "<table border=\"1\" class=\"dataframe\">\n",
       "  <thead>\n",
       "    <tr style=\"text-align: right;\">\n",
       "      <th></th>\n",
       "      <th>City</th>\n",
       "      <th>Amount</th>\n",
       "      <th>ExpensesDoneByCity</th>\n",
       "    </tr>\n",
       "  </thead>\n",
       "  <tbody>\n",
       "    <tr>\n",
       "      <th>0</th>\n",
       "      <td>Delhi, India</td>\n",
       "      <td>145211065</td>\n",
       "      <td>2015</td>\n",
       "    </tr>\n",
       "    <tr>\n",
       "      <th>1</th>\n",
       "      <td>Greater Mumbai, India</td>\n",
       "      <td>142306409</td>\n",
       "      <td>2015</td>\n",
       "    </tr>\n",
       "    <tr>\n",
       "      <th>2</th>\n",
       "      <td>Ahmedabad, India</td>\n",
       "      <td>136213286</td>\n",
       "      <td>2015</td>\n",
       "    </tr>\n",
       "    <tr>\n",
       "      <th>3</th>\n",
       "      <td>Bengaluru, India</td>\n",
       "      <td>135845357</td>\n",
       "      <td>2015</td>\n",
       "    </tr>\n",
       "    <tr>\n",
       "      <th>4</th>\n",
       "      <td>Kolkata, India</td>\n",
       "      <td>30918731</td>\n",
       "      <td>2015</td>\n",
       "    </tr>\n",
       "  </tbody>\n",
       "</table>\n",
       "</div>"
      ],
      "text/plain": [
       "                    City     Amount ExpensesDoneByCity\n",
       "0           Delhi, India  145211065               2015\n",
       "1  Greater Mumbai, India  142306409               2015\n",
       "2       Ahmedabad, India  136213286               2015\n",
       "3       Bengaluru, India  135845357               2015\n",
       "4         Kolkata, India   30918731               2015"
      ]
     },
     "execution_count": 203,
     "metadata": {},
     "output_type": "execute_result"
    }
   ],
   "source": [
    "list1 =['2013','2013','2013','2013','2013']\n",
    "list2=['2014','2014','2014','2014','2014']\n",
    "list3=['2015','2015','2015','2015','2015']\n",
    "year2013['ExpensesDoneByCity']=list1;year2013\n",
    "year2014['ExpensesDoneByCity']=list2;year2014\n",
    "year2015['ExpensesDoneByCity']=list3;year2015\n"
   ]
  },
  {
   "cell_type": "code",
   "execution_count": 208,
   "metadata": {},
   "outputs": [
    {
     "data": {
      "text/plain": [
       "<matplotlib.legend.Legend at 0x1e81490c400>"
      ]
     },
     "execution_count": 208,
     "metadata": {},
     "output_type": "execute_result"
    },
    {
     "data": {
      "image/png": "[encoded data removed]",
      "text/plain": [
       "<Figure size 360x360 with 1 Axes>"
      ]
     },
     "metadata": {
      "needs_background": "light"
     },
     "output_type": "display_data"
    }
   ],
   "source": [
    "fig  = mat.figure(figsize=(5,5))\n",
    "ax = fig.add_axes([0,0,1,1])\n",
    "ax.bar(0.00, year2013['Amount'],color = 'b', width = 0.25)\n",
    "ax.bar(0.35, year2014['Amount'], color = 'g', width = 0.25)\n",
    "ax.bar(0.70, year2015['Amount'], color = 'r', width = 0.25)\n",
    "ax.set_title('Year by Most Amount Spend by diffrent cities ', size=15, pad=10)\n",
    "ax.set_xlabel('Year')\n",
    "ax.set_ylabel('Amount')\n",
    "ax.legend(labels=['2013', '2014','2015'])"
   ]
  },
  {
   "cell_type": "code",
   "execution_count": 33,
   "metadata": {},
   "outputs": [
    {
     "data": {
      "text/plain": [
       "Text(0.5, 1.0, 'Amount of 2015')"
      ]
     },
     "execution_count": 33,
     "metadata": {},
     "output_type": "execute_result"
    },
    {
     "data": {
      "image/png": "[encoded data removed]",
      "text/plain": [
       "<Figure size 1440x720 with 3 Axes>"
      ]
     },
     "metadata": {},
     "output_type": "display_data"
    }
   ],
   "source": [
    "# fig  = mat.figure(figsize=(5,5))\n",
    "\n",
    "fig,axis= mat.subplots(1,3,figsize=(20,10))\n",
    "\n",
    "# axis = fig.add_axes([0, 0, 1, 1])\n",
    "axis[0].pie(year2013['Amount'], labels=year2013['City'],\n",
    "         autopct='%.1f%%')\n",
    "axis[0].set_title('Amount of 2013', size=15, pad=10)\n",
    "\n",
    "axis[1].pie(year2014['Amount'], labels=year2014['City'],\n",
    "         autopct='%.1f%%')\n",
    "axis[1].set_title('Amount of 2014', size=15, pad=10)\n",
    "\n",
    "axis[2].pie(year2015['Amount'], labels=year2015['City'],\n",
    "         autopct='%.1f%%')\n",
    "axis[2].set_title('Amount of 2015', size=15, pad=10)"
   ]
  },
  {
   "cell_type": "code",
   "execution_count": 34,
   "metadata": {
    "scrolled": true
   },
   "outputs": [
    {
     "data": {
      "text/html": [
       "<div>\n",
       "<style scoped>\n",
       "    .dataframe tbody tr th:only-of-type {\n",
       "        vertical-align: middle;\n",
       "    }\n",
       "\n",
       "    .dataframe tbody tr th {\n",
       "        vertical-align: top;\n",
       "    }\n",
       "\n",
       "    .dataframe thead th {\n",
       "        text-align: right;\n",
       "    }\n",
       "</style>\n",
       "<table border=\"1\" class=\"dataframe\">\n",
       "  <thead>\n",
       "    <tr style=\"text-align: right;\">\n",
       "      <th>City</th>\n",
       "      <th>Delhi, India</th>\n",
       "      <th>Greater Mumbai, India</th>\n",
       "      <th>Ahmedabad, India</th>\n",
       "      <th>Bengaluru, India</th>\n",
       "      <th>Kolkata, India</th>\n",
       "    </tr>\n",
       "    <tr>\n",
       "      <th>ExpensesDoneByCity</th>\n",
       "      <th></th>\n",
       "      <th></th>\n",
       "      <th></th>\n",
       "      <th></th>\n",
       "      <th></th>\n",
       "    </tr>\n",
       "  </thead>\n",
       "  <tbody>\n",
       "    <tr>\n",
       "      <th>2015</th>\n",
       "      <td>145211065</td>\n",
       "      <td>142306409</td>\n",
       "      <td>136213286</td>\n",
       "      <td>135845357</td>\n",
       "      <td>30918731</td>\n",
       "    </tr>\n",
       "  </tbody>\n",
       "</table>\n",
       "</div>"
      ],
      "text/plain": [
       "City                Delhi, India  Greater Mumbai, India  Ahmedabad, India  \\\n",
       "ExpensesDoneByCity                                                          \n",
       "2015                   145211065              142306409         136213286   \n",
       "\n",
       "City                Bengaluru, India  Kolkata, India  \n",
       "ExpensesDoneByCity                                    \n",
       "2015                       135845357        30918731  "
      ]
     },
     "execution_count": 34,
     "metadata": {},
     "output_type": "execute_result"
    }
   ],
   "source": [
    "year2013 = year2013.pivot('ExpensesDoneByCity','City','Amount')\n",
    "year2013 = year2013.sort_values(by = ['2013'],axis = 1,ascending = False);year2013\n",
    "year2014 = year2014.pivot('ExpensesDoneByCity','City','Amount')\n",
    "year2014 = year2014.sort_values(by = ['2014'],axis = 1,ascending = False);year2014\n",
    "year2015 = year2015.pivot('ExpensesDoneByCity','City','Amount')\n",
    "year2015 = year2015.sort_values(by = ['2015'],axis = 1,ascending = False);year2015"
   ]
  },
  {
   "cell_type": "code",
   "execution_count": 35,
   "metadata": {},
   "outputs": [],
   "source": [
    "writer = p.ExcelWriter('report1.xlsx', engine='xlsxwriter')\n",
    "\n",
    "year2013.to_excel(writer,sheet_name='2013')\n",
    "year2014.to_excel(writer,sheet_name='2014')\n",
    "year2015.to_excel(writer,sheet_name='2015')\n",
    "writer.save()"
   ]
  },
  {
   "cell_type": "markdown",
   "metadata": {},
   "source": [
    "### Second report by male and female by quartely.\n"
   ]
  },
  {
   "cell_type": "code",
   "execution_count": 36,
   "metadata": {},
   "outputs": [],
   "source": [
    "quarterly = data.resample('QS').sum()\n",
    "quarterly = quarterly.reset_index()\n",
    "quarterly['Date'] = quarterly['Date'].dt.strftime(\"%Y%m%d\").astype(int)\n",
    "qlist = quarterly[\"Date\"].tolist();qlist\n",
    "qlist.append(20150701)\n",
    "qlist.append(20151001)"
   ]
  },
  {
   "cell_type": "code",
   "execution_count": 37,
   "metadata": {},
   "outputs": [],
   "source": [
    "data4 = data\n",
    "data4 = data4.reset_index()\n",
    "data4[\"quarterly\"] = data4[\"Date\"].dt.quarter;data4\n",
    "data4[\"year\"] = data4[\"Date\"].dt.year;data4\n",
    "data4['Date']= data4['Date'].dt.strftime(\"%Y%m%d\").astype(int)\n"
   ]
  },
  {
   "cell_type": "code",
   "execution_count": 168,
   "metadata": {},
   "outputs": [
    {
     "name": "stdout",
     "output_type": "stream",
     "text": [
      "hello\n"
     ]
    },
    {
     "data": {
      "text/html": [
       "<div>\n",
       "<style scoped>\n",
       "    .dataframe tbody tr th:only-of-type {\n",
       "        vertical-align: middle;\n",
       "    }\n",
       "\n",
       "    .dataframe tbody tr th {\n",
       "        vertical-align: top;\n",
       "    }\n",
       "\n",
       "    .dataframe thead th {\n",
       "        text-align: right;\n",
       "    }\n",
       "</style>\n",
       "<table border=\"1\" class=\"dataframe\">\n",
       "  <thead>\n",
       "    <tr style=\"text-align: right;\">\n",
       "      <th></th>\n",
       "      <th>Gender</th>\n",
       "      <th>Amount</th>\n",
       "    </tr>\n",
       "  </thead>\n",
       "  <tbody>\n",
       "    <tr>\n",
       "      <th>0</th>\n",
       "      <td>F</td>\n",
       "      <td>318768288</td>\n",
       "    </tr>\n",
       "    <tr>\n",
       "      <th>1</th>\n",
       "      <td>M</td>\n",
       "      <td>281336181</td>\n",
       "    </tr>\n",
       "  </tbody>\n",
       "</table>\n",
       "</div>"
      ],
      "text/plain": [
       "  Gender     Amount\n",
       "0      F  318768288\n",
       "1      M  281336181"
      ]
     },
     "execution_count": 168,
     "metadata": {},
     "output_type": "execute_result"
    }
   ],
   "source": [
    "for i in range(0,1,len(qlist)):\n",
    "    globals()[f\"quarter{i}\"]=data4.loc[(data4['Date'] >= (qlist[i]))&(data4['Date'] < (qlist[i + 1]))].groupby(['Gender']).sum()\n",
    "    globals()[f\"quarter{i}\"]=globals()[f\"quarter{i}\"].drop(columns=['Date', 'quarterly','year']).reset_index()\n",
    "    print(\"hello\")\n",
    "quarter1\n",
    "\n"
   ]
  },
  {
   "cell_type": "code",
   "execution_count": 169,
   "metadata": {},
   "outputs": [
    {
     "data": {
      "text/plain": [
       "Text(0.5, 1.0, 'Amount of 2015 quarter2')"
      ]
     },
     "execution_count": 169,
     "metadata": {},
     "output_type": "execute_result"
    },
    {
     "data": {
      "image/png": "[encoded data removed]",
      "text/plain": [
       "<Figure size 1440x720 with 9 Axes>"
      ]
     },
     "metadata": {
      "needs_background": "light"
     },
     "output_type": "display_data"
    }
   ],
   "source": [
    "\n",
    "fig,axis= mat.subplots(3,3,figsize=(20,10))\n",
    "\n",
    "axis[0,0].bar( quarter0[\"Gender\"],quarter0['Amount'])\n",
    "axis[0,0].set_title('Amount of 2013 quarter4', size=10, pad=10)\n",
    "\n",
    "axis[0,1].bar( quarter1[\"Gender\"],quarter1['Amount'])\n",
    "axis[0,1].set_title('Amount of 2014 quarter1', size=10, pad=10)\n",
    "\n",
    "axis[0,2].bar( quarter2[\"Gender\"],quarter2['Amount'])\n",
    "axis[0,2].set_title('Amount of 2014 quarter2', size=10, pad=10)\n",
    "\n",
    "axis[1,0].bar( quarter3[\"Gender\"],quarter3['Amount'])\n",
    "axis[1,0].set_title('Amount of 2014 quarter3', size=10, pad=10)\n",
    "\n",
    "axis[1,1].bar( quarter4[\"Gender\"],quarter4['Amount'])\n",
    "axis[1,1].set_title('Amount of 2014 quarter4', size=10, pad=10)\n",
    "\n",
    "axis[1,2].bar( quarter5[\"Gender\"],quarter5['Amount'])\n",
    "axis[1,2].set_title('Amount of 2015 quarter1', size=10, pad=10)\n",
    "\n",
    "axis[2,0].bar( quarter6[\"Gender\"],quarter6['Amount'])\n",
    "axis[2,0].set_title('Amount of 2015 quarter2', size=10, pad=10)"
   ]
  },
  {
   "cell_type": "code",
   "execution_count": 188,
   "metadata": {
    "scrolled": true
   },
   "outputs": [
    {
     "data": {
      "text/html": [
       "<div>\n",
       "<style scoped>\n",
       "    .dataframe tbody tr th:only-of-type {\n",
       "        vertical-align: middle;\n",
       "    }\n",
       "\n",
       "    .dataframe tbody tr th {\n",
       "        vertical-align: top;\n",
       "    }\n",
       "\n",
       "    .dataframe thead th {\n",
       "        text-align: right;\n",
       "    }\n",
       "</style>\n",
       "<table border=\"1\" class=\"dataframe\">\n",
       "  <thead>\n",
       "    <tr style=\"text-align: right;\">\n",
       "      <th></th>\n",
       "      <th>Quarter1 2015</th>\n",
       "      <th>Quarter2 2015</th>\n",
       "      <th>Quarter3 2015</th>\n",
       "      <th>Quarter4 2015</th>\n",
       "    </tr>\n",
       "  </thead>\n",
       "  <tbody>\n",
       "    <tr>\n",
       "      <th>Male</th>\n",
       "      <td>279678969</td>\n",
       "      <td>175169620</td>\n",
       "      <td>0.0</td>\n",
       "      <td>0.0</td>\n",
       "    </tr>\n",
       "    <tr>\n",
       "      <th>Female</th>\n",
       "      <td>344993188</td>\n",
       "      <td>206633679</td>\n",
       "      <td>0.0</td>\n",
       "      <td>0.0</td>\n",
       "    </tr>\n",
       "  </tbody>\n",
       "</table>\n",
       "</div>"
      ],
      "text/plain": [
       "        Quarter1 2015  Quarter2 2015  Quarter3 2015  Quarter4 2015\n",
       "Male        279678969      175169620            0.0            0.0\n",
       "Female      344993188      206633679            0.0            0.0"
      ]
     },
     "execution_count": 188,
     "metadata": {},
     "output_type": "execute_result"
    }
   ],
   "source": [
    "ql=['Quarter1 2013','Quarter2 2013','Quarter3 2013','Quarter4 2013',\n",
    "    ]\n",
    "q2=['Quarter1 2014','Quarter2 2014','Quarter3 2014','Quarter4 2014',\n",
    "    ]\n",
    "q3=['Quarter1 2015','Quarter2 2015','Quarter3 2015','Quarter4 2015',\n",
    "    ]\n",
    "l1=[[np.nan,np.nan,np.nan,quarter0['Amount'][1]],[np.nan,np.nan,np.nan,quarter0['Amount'][0]]]\n",
    "l2=[[quarter1['Amount'][1],quarter2['Amount'][1],quarter3['Amount'][1],quarter4['Amount'][1]],\n",
    "    [quarter1['Amount'][0],quarter2['Amount'][0],quarter3['Amount'][0],quarter4['Amount'][0]]]\n",
    "l3=[[quarter5['Amount'][1],quarter6['Amount'][1],np.nan,np.nan],[quarter5['Amount'][0],quarter6['Amount'][0],np.nan,np.nan]]\n",
    "\n",
    "Report2013 = p.DataFrame(data=l1,columns=ql)\n",
    "Report2014 = p.DataFrame(data=l2,columns=q2)\n",
    "Report2015 = p.DataFrame(data=l3,columns=q3)\n",
    "\n",
    "Report2013 = Report2013.rename(index={0: \"Male\", 1: \"Female\"})\n",
    "\n",
    "Report2014 = Report2014.rename(index={0: \"Male\", 1: \"Female\"})\n",
    "\n",
    "Report2015 = Report2015.rename(index={0: \"Male\", 1: \"Female\"})\n",
    "Report2013 = Report2013.fillna(0) \n",
    "Report2014 = Report2014.fillna(0)\n",
    "Report2015 = Report2015.fillna(0)\n",
    "Report2015\n"
   ]
  },
  {
   "cell_type": "code",
   "execution_count": 191,
   "metadata": {},
   "outputs": [
    {
     "data": {
      "text/plain": [
       "Text(0.5, 1.0, 'Quarter BoxPlot of 2015')"
      ]
     },
     "execution_count": 191,
     "metadata": {},
     "output_type": "execute_result"
    },
    {
     "data": {
      "image/png": "[encoded data removed]",
      "text/plain": [
       "<Figure size 1440x720 with 3 Axes>"
      ]
     },
     "metadata": {
      "needs_background": "light"
     },
     "output_type": "display_data"
    }
   ],
   "source": [
    "fig,axis= mat.subplots(1,3,figsize=(20,10))\n",
    "\n",
    "\n",
    "axis[0].boxplot(Report2013[\"Quarter4 2013\"])\n",
    "axis[0].set_title(' Quarter BoxPlot of 2013', size=15, pad=10)\n",
    "\n",
    "axis[1].boxplot(Report2014)\n",
    "axis[1].set_title('Quarter BoxPlot of 2014', size=15, pad=10)\n",
    "\n",
    "axis[2].boxplot(Report2015)\n",
    "axis[2].set_title('Quarter BoxPlot of 2015', size=15, pad=10)\n"
   ]
  },
  {
   "cell_type": "code",
   "execution_count": 172,
   "metadata": {},
   "outputs": [],
   "source": [
    "writer = p.ExcelWriter('report2.xlsx', engine='xlsxwriter')\n",
    "Report2013.to_excel(writer,sheet_name='2013')\n",
    "Report2014.to_excel(writer,sheet_name='2014')\n",
    "Report2015.to_excel(writer,sheet_name='2015')\n",
    "writer.save()"
   ]
  },
  {
   "cell_type": "markdown",
   "metadata": {},
   "source": [
    "### Report by the expenses type"
   ]
  },
  {
   "cell_type": "code",
   "execution_count": 173,
   "metadata": {
    "scrolled": true
   },
   "outputs": [
    {
     "data": {
      "text/html": [
       "<div>\n",
       "<style scoped>\n",
       "    .dataframe tbody tr th:only-of-type {\n",
       "        vertical-align: middle;\n",
       "    }\n",
       "\n",
       "    .dataframe tbody tr th {\n",
       "        vertical-align: top;\n",
       "    }\n",
       "\n",
       "    .dataframe thead th {\n",
       "        text-align: right;\n",
       "    }\n",
       "</style>\n",
       "<table border=\"1\" class=\"dataframe\">\n",
       "  <thead>\n",
       "    <tr style=\"text-align: right;\">\n",
       "      <th></th>\n",
       "      <th></th>\n",
       "      <th>Amount</th>\n",
       "    </tr>\n",
       "    <tr>\n",
       "      <th>year</th>\n",
       "      <th>Exp Type</th>\n",
       "      <th></th>\n",
       "    </tr>\n",
       "  </thead>\n",
       "  <tbody>\n",
       "    <tr>\n",
       "      <th rowspan=\"6\" valign=\"top\">2013</th>\n",
       "      <th>Bills</th>\n",
       "      <td>136165014</td>\n",
       "    </tr>\n",
       "    <tr>\n",
       "      <th>Entertainment</th>\n",
       "      <td>113094669</td>\n",
       "    </tr>\n",
       "    <tr>\n",
       "      <th>Food</th>\n",
       "      <td>123284967</td>\n",
       "    </tr>\n",
       "    <tr>\n",
       "      <th>Fuel</th>\n",
       "      <td>113938738</td>\n",
       "    </tr>\n",
       "    <tr>\n",
       "      <th>Grocery</th>\n",
       "      <td>111806890</td>\n",
       "    </tr>\n",
       "    <tr>\n",
       "      <th>Travel</th>\n",
       "      <td>15353606</td>\n",
       "    </tr>\n",
       "    <tr>\n",
       "      <th rowspan=\"6\" valign=\"top\">2014</th>\n",
       "      <th>Bills</th>\n",
       "      <td>543741413</td>\n",
       "    </tr>\n",
       "    <tr>\n",
       "      <th>Entertainment</th>\n",
       "      <td>443730570</td>\n",
       "    </tr>\n",
       "    <tr>\n",
       "      <th>Food</th>\n",
       "      <td>491383057</td>\n",
       "    </tr>\n",
       "    <tr>\n",
       "      <th>Fuel</th>\n",
       "      <td>481697184</td>\n",
       "    </tr>\n",
       "    <tr>\n",
       "      <th>Grocery</th>\n",
       "      <td>428628961</td>\n",
       "    </tr>\n",
       "    <tr>\n",
       "      <th>Travel</th>\n",
       "      <td>65532848</td>\n",
       "    </tr>\n",
       "    <tr>\n",
       "      <th rowspan=\"6\" valign=\"top\">2015</th>\n",
       "      <th>Bills</th>\n",
       "      <td>227166046</td>\n",
       "    </tr>\n",
       "    <tr>\n",
       "      <th>Entertainment</th>\n",
       "      <td>169612297</td>\n",
       "    </tr>\n",
       "    <tr>\n",
       "      <th>Food</th>\n",
       "      <td>210055985</td>\n",
       "    </tr>\n",
       "    <tr>\n",
       "      <th>Fuel</th>\n",
       "      <td>193499899</td>\n",
       "    </tr>\n",
       "    <tr>\n",
       "      <th>Grocery</th>\n",
       "      <td>177772072</td>\n",
       "    </tr>\n",
       "    <tr>\n",
       "      <th>Travel</th>\n",
       "      <td>28369157</td>\n",
       "    </tr>\n",
       "  </tbody>\n",
       "</table>\n",
       "</div>"
      ],
      "text/plain": [
       "                       Amount\n",
       "year Exp Type                \n",
       "2013 Bills          136165014\n",
       "     Entertainment  113094669\n",
       "     Food           123284967\n",
       "     Fuel           113938738\n",
       "     Grocery        111806890\n",
       "     Travel          15353606\n",
       "2014 Bills          543741413\n",
       "     Entertainment  443730570\n",
       "     Food           491383057\n",
       "     Fuel           481697184\n",
       "     Grocery        428628961\n",
       "     Travel          65532848\n",
       "2015 Bills          227166046\n",
       "     Entertainment  169612297\n",
       "     Food           210055985\n",
       "     Fuel           193499899\n",
       "     Grocery        177772072\n",
       "     Travel          28369157"
      ]
     },
     "execution_count": 173,
     "metadata": {},
     "output_type": "execute_result"
    }
   ],
   "source": [
    "data3 = data\n",
    "data3 = data3.reset_index()\n",
    "data3['year'] = data3['Date'].dt.year\n",
    "rep = data3.groupby(['year','Exp Type']).sum()\n",
    "#rep = rep.reset_index();rep\n",
    "rep"
   ]
  },
  {
   "cell_type": "code",
   "execution_count": 177,
   "metadata": {
    "scrolled": true
   },
   "outputs": [],
   "source": [
    "sep = rep.reset_index()\n",
    "\n",
    "sep13 = sep.loc[(sep['year'] == 2013 )].groupby(['year','Exp Type']).sum()\n",
    "sep13 = sep13.reset_index()\n",
    "sep14 = sep.loc[(sep['year'] == 2014 )].groupby(['year','Exp Type']).sum()\n",
    "sep14 = sep14.reset_index()\n",
    "sep15 = sep.loc[(sep['year'] == 2015 )].groupby(['year','Exp Type']).sum()\n",
    "sep15 = sep15.reset_index()\n"
   ]
  },
  {
   "cell_type": "code",
   "execution_count": 183,
   "metadata": {
    "scrolled": false
   },
   "outputs": [
    {
     "data": {
      "text/plain": [
       "Text(0.5, 1.0, ' Amount spend by Expense type of 2015')"
      ]
     },
     "execution_count": 183,
     "metadata": {},
     "output_type": "execute_result"
    },
    {
     "data": {
      "image/png": "[encoded data removed]",
      "text/plain": [
       "<Figure size 1440x720 with 3 Axes>"
      ]
     },
     "metadata": {},
     "output_type": "display_data"
    }
   ],
   "source": [
    "fig,axis= mat.subplots(1,3,figsize=(20,10))\n",
    "pie_space = [0.1,0,0,0,0,0.2]\n",
    "axis[0].pie(sep13['Amount'], labels=sep13[\"Exp Type\"],explode = pie_space,\n",
    "         autopct='%.1f%%')\n",
    "axis[0].set_title(' Amount spend by Expense type of 2013', size=15, pad=10)\n",
    "\n",
    "axis[1].pie(sep14['Amount'], labels=sep14[\"Exp Type\"],explode = pie_space,\n",
    "         autopct='%.1f%%')\n",
    "axis[1].set_title('Amount spend by Expense type of 2014', size=15, pad=10)\n",
    "\n",
    "axis[2].pie(sep15['Amount'], labels=sep15[\"Exp Type\"],explode = pie_space,\n",
    "         autopct='%.1f%%')\n",
    "axis[2].set_title(' Amount spend by Expense type of 2015', size=15, pad=10)"
   ]
  },
  {
   "cell_type": "code",
   "execution_count": 78,
   "metadata": {
    "scrolled": true
   },
   "outputs": [
    {
     "data": {
      "text/html": [
       "<div>\n",
       "<style scoped>\n",
       "    .dataframe tbody tr th:only-of-type {\n",
       "        vertical-align: middle;\n",
       "    }\n",
       "\n",
       "    .dataframe tbody tr th {\n",
       "        vertical-align: top;\n",
       "    }\n",
       "\n",
       "    .dataframe thead th {\n",
       "        text-align: right;\n",
       "    }\n",
       "</style>\n",
       "<table border=\"1\" class=\"dataframe\">\n",
       "  <thead>\n",
       "    <tr style=\"text-align: right;\">\n",
       "      <th>ExpType</th>\n",
       "      <th>Fuel</th>\n",
       "      <th>Food</th>\n",
       "      <th>Bills</th>\n",
       "    </tr>\n",
       "    <tr>\n",
       "      <th>year</th>\n",
       "      <th></th>\n",
       "      <th></th>\n",
       "      <th></th>\n",
       "    </tr>\n",
       "  </thead>\n",
       "  <tbody>\n",
       "    <tr>\n",
       "      <th>2015</th>\n",
       "      <td>193499899</td>\n",
       "      <td>210055985</td>\n",
       "      <td>227166046</td>\n",
       "    </tr>\n",
       "  </tbody>\n",
       "</table>\n",
       "</div>"
      ],
      "text/plain": [
       "ExpType       Fuel       Food      Bills\n",
       "year                                    \n",
       "2015     193499899  210055985  227166046"
      ]
     },
     "execution_count": 78,
     "metadata": {},
     "output_type": "execute_result"
    }
   ],
   "source": [
    "\n",
    "engine = create_engine('sqlite://', echo=False)\n",
    "#here I use pandas libray wich have bulitn in functo that can mimic dataframe as database\n",
    "rep.to_sql('expense', con=engine)\n",
    "rep2013 = engine.execute(\"SELECT * FROM expense WHERE year = 2013 ORDER BY Amount DESC LIMIT 3 \").fetchall()\n",
    "rep2014 = engine.execute(\"SELECT * FROM expense WHERE year = 2014 ORDER BY Amount DESC LIMIT 3 \").fetchall()\n",
    "rep2015 = engine.execute(\"SELECT * FROM expense WHERE year = 2015 ORDER BY Amount DESC LIMIT 3 \").fetchall()\n",
    "report32013= p.DataFrame(rep2013, columns=['year', 'ExpType','Amount']);report32013\n",
    "report32014= p.DataFrame(rep2014, columns=['year', 'ExpType','Amount']);report32014\n",
    "report32015= p.DataFrame(rep2015, columns=['year', 'ExpType','Amount']);report32015\n",
    "report32013=report32013.pivot(index='year', columns='ExpType', values='Amount').sort_values(by=2013,axis=1,ascending=True);report32013\n",
    "report32014=report32014.pivot(index='year', columns='ExpType', values='Amount').sort_values(by=2014,axis=1,ascending=True);report32014\n",
    "report32015=report32015.pivot(index='year', columns='ExpType', values='Amount').sort_values(by=2015,axis=1,ascending=True);report32015"
   ]
  },
  {
   "cell_type": "code",
   "execution_count": 79,
   "metadata": {},
   "outputs": [],
   "source": [
    "writer = p.ExcelWriter('report3.xlsx', engine='xlsxwriter')\n",
    "report32013.to_excel(writer,sheet_name='2013')\n",
    "report32014.to_excel(writer,sheet_name='2014')\n",
    "report32015.to_excel(writer,sheet_name='2015')\n",
    "writer.save()\n"
   ]
  },
  {
   "cell_type": "markdown",
   "metadata": {},
   "source": [
    "### Find the Fraud transaction in the dataset. ^_^"
   ]
  },
  {
   "cell_type": "code",
   "execution_count": 80,
   "metadata": {},
   "outputs": [
    {
     "data": {
      "text/html": [
       "<div>\n",
       "<style scoped>\n",
       "    .dataframe tbody tr th:only-of-type {\n",
       "        vertical-align: middle;\n",
       "    }\n",
       "\n",
       "    .dataframe tbody tr th {\n",
       "        vertical-align: top;\n",
       "    }\n",
       "\n",
       "    .dataframe thead th {\n",
       "        text-align: right;\n",
       "    }\n",
       "</style>\n",
       "<table border=\"1\" class=\"dataframe\">\n",
       "  <thead>\n",
       "    <tr style=\"text-align: right;\">\n",
       "      <th></th>\n",
       "      <th>City</th>\n",
       "      <th>Card Type</th>\n",
       "      <th>Exp Type</th>\n",
       "      <th>Gender</th>\n",
       "      <th>Amount</th>\n",
       "    </tr>\n",
       "    <tr>\n",
       "      <th>Date</th>\n",
       "      <th></th>\n",
       "      <th></th>\n",
       "      <th></th>\n",
       "      <th></th>\n",
       "      <th></th>\n",
       "    </tr>\n",
       "  </thead>\n",
       "  <tbody>\n",
       "    <tr>\n",
       "      <th>2014-10-29</th>\n",
       "      <td>Delhi, India</td>\n",
       "      <td>Gold</td>\n",
       "      <td>Bills</td>\n",
       "      <td>F</td>\n",
       "      <td>82475</td>\n",
       "    </tr>\n",
       "    <tr>\n",
       "      <th>2014-08-22</th>\n",
       "      <td>Greater Mumbai, India</td>\n",
       "      <td>Platinum</td>\n",
       "      <td>Bills</td>\n",
       "      <td>F</td>\n",
       "      <td>32555</td>\n",
       "    </tr>\n",
       "    <tr>\n",
       "      <th>2014-08-27</th>\n",
       "      <td>Bengaluru, India</td>\n",
       "      <td>Silver</td>\n",
       "      <td>Bills</td>\n",
       "      <td>F</td>\n",
       "      <td>101738</td>\n",
       "    </tr>\n",
       "    <tr>\n",
       "      <th>2014-04-12</th>\n",
       "      <td>Greater Mumbai, India</td>\n",
       "      <td>Signature</td>\n",
       "      <td>Bills</td>\n",
       "      <td>F</td>\n",
       "      <td>123424</td>\n",
       "    </tr>\n",
       "    <tr>\n",
       "      <th>2015-05-05</th>\n",
       "      <td>Bengaluru, India</td>\n",
       "      <td>Gold</td>\n",
       "      <td>Bills</td>\n",
       "      <td>F</td>\n",
       "      <td>171574</td>\n",
       "    </tr>\n",
       "    <tr>\n",
       "      <th>...</th>\n",
       "      <td>...</td>\n",
       "      <td>...</td>\n",
       "      <td>...</td>\n",
       "      <td>...</td>\n",
       "      <td>...</td>\n",
       "    </tr>\n",
       "    <tr>\n",
       "      <th>2014-06-22</th>\n",
       "      <td>Kolkata, India</td>\n",
       "      <td>Silver</td>\n",
       "      <td>Travel</td>\n",
       "      <td>F</td>\n",
       "      <td>128191</td>\n",
       "    </tr>\n",
       "    <tr>\n",
       "      <th>2014-08-03</th>\n",
       "      <td>Pune, India</td>\n",
       "      <td>Signature</td>\n",
       "      <td>Travel</td>\n",
       "      <td>M</td>\n",
       "      <td>246316</td>\n",
       "    </tr>\n",
       "    <tr>\n",
       "      <th>2015-01-16</th>\n",
       "      <td>Hyderabad, India</td>\n",
       "      <td>Silver</td>\n",
       "      <td>Travel</td>\n",
       "      <td>M</td>\n",
       "      <td>265019</td>\n",
       "    </tr>\n",
       "    <tr>\n",
       "      <th>2014-09-14</th>\n",
       "      <td>Kanpur, India</td>\n",
       "      <td>Silver</td>\n",
       "      <td>Travel</td>\n",
       "      <td>M</td>\n",
       "      <td>88174</td>\n",
       "    </tr>\n",
       "    <tr>\n",
       "      <th>2013-10-19</th>\n",
       "      <td>Hyderabad, India</td>\n",
       "      <td>Signature</td>\n",
       "      <td>Bills</td>\n",
       "      <td>M</td>\n",
       "      <td>184410</td>\n",
       "    </tr>\n",
       "  </tbody>\n",
       "</table>\n",
       "<p>26052 rows × 5 columns</p>\n",
       "</div>"
      ],
      "text/plain": [
       "                             City  Card Type Exp Type Gender  Amount\n",
       "Date                                                                \n",
       "2014-10-29           Delhi, India       Gold    Bills      F   82475\n",
       "2014-08-22  Greater Mumbai, India   Platinum    Bills      F   32555\n",
       "2014-08-27       Bengaluru, India     Silver    Bills      F  101738\n",
       "2014-04-12  Greater Mumbai, India  Signature    Bills      F  123424\n",
       "2015-05-05       Bengaluru, India       Gold    Bills      F  171574\n",
       "...                           ...        ...      ...    ...     ...\n",
       "2014-06-22         Kolkata, India     Silver   Travel      F  128191\n",
       "2014-08-03            Pune, India  Signature   Travel      M  246316\n",
       "2015-01-16       Hyderabad, India     Silver   Travel      M  265019\n",
       "2014-09-14          Kanpur, India     Silver   Travel      M   88174\n",
       "2013-10-19       Hyderabad, India  Signature    Bills      M  184410\n",
       "\n",
       "[26052 rows x 5 columns]"
      ]
     },
     "execution_count": 80,
     "metadata": {},
     "output_type": "execute_result"
    }
   ],
   "source": [
    "data5 = data \n",
    "data5 = data5.reset_index();data"
   ]
  },
  {
   "cell_type": "code",
   "execution_count": 81,
   "metadata": {
    "scrolled": false
   },
   "outputs": [
    {
     "data": {
      "text/html": [
       "<div>\n",
       "<style scoped>\n",
       "    .dataframe tbody tr th:only-of-type {\n",
       "        vertical-align: middle;\n",
       "    }\n",
       "\n",
       "    .dataframe tbody tr th {\n",
       "        vertical-align: top;\n",
       "    }\n",
       "\n",
       "    .dataframe thead th {\n",
       "        text-align: right;\n",
       "    }\n",
       "</style>\n",
       "<table border=\"1\" class=\"dataframe\">\n",
       "  <thead>\n",
       "    <tr style=\"text-align: right;\">\n",
       "      <th></th>\n",
       "      <th>Amount</th>\n",
       "    </tr>\n",
       "  </thead>\n",
       "  <tbody>\n",
       "    <tr>\n",
       "      <th>count</th>\n",
       "      <td>26052.000000</td>\n",
       "    </tr>\n",
       "    <tr>\n",
       "      <th>mean</th>\n",
       "      <td>156411.537425</td>\n",
       "    </tr>\n",
       "    <tr>\n",
       "      <th>std</th>\n",
       "      <td>103063.254287</td>\n",
       "    </tr>\n",
       "    <tr>\n",
       "      <th>min</th>\n",
       "      <td>1005.000000</td>\n",
       "    </tr>\n",
       "    <tr>\n",
       "      <th>25%</th>\n",
       "      <td>77120.250000</td>\n",
       "    </tr>\n",
       "    <tr>\n",
       "      <th>50%</th>\n",
       "      <td>153106.500000</td>\n",
       "    </tr>\n",
       "    <tr>\n",
       "      <th>75%</th>\n",
       "      <td>228050.000000</td>\n",
       "    </tr>\n",
       "    <tr>\n",
       "      <th>max</th>\n",
       "      <td>998077.000000</td>\n",
       "    </tr>\n",
       "  </tbody>\n",
       "</table>\n",
       "</div>"
      ],
      "text/plain": [
       "              Amount\n",
       "count   26052.000000\n",
       "mean   156411.537425\n",
       "std    103063.254287\n",
       "min      1005.000000\n",
       "25%     77120.250000\n",
       "50%    153106.500000\n",
       "75%    228050.000000\n",
       "max    998077.000000"
      ]
     },
     "execution_count": 81,
     "metadata": {},
     "output_type": "execute_result"
    }
   ],
   "source": [
    "data5.describe()"
   ]
  },
  {
   "cell_type": "markdown",
   "metadata": {},
   "source": [
    "#### There seems to be in bills expense type are perform, I am assuming credit card company, can clasify the transacation in diffrent category, but most of the fraud took place end most of timre it classified in bill section.\n",
    "I will explore the bill type in more details to detect the fraud.\n",
    "I will took 228050 this value because almost this amount fall in 3 quartile \n",
    "aprox I can say top 250 to 370 records can be fraud out of 524 records."
   ]
  },
  {
   "cell_type": "code",
   "execution_count": 82,
   "metadata": {
    "scrolled": true
   },
   "outputs": [
    {
     "data": {
      "text/html": [
       "<div>\n",
       "<style scoped>\n",
       "    .dataframe tbody tr th:only-of-type {\n",
       "        vertical-align: middle;\n",
       "    }\n",
       "\n",
       "    .dataframe tbody tr th {\n",
       "        vertical-align: top;\n",
       "    }\n",
       "\n",
       "    .dataframe thead th {\n",
       "        text-align: right;\n",
       "    }\n",
       "</style>\n",
       "<table border=\"1\" class=\"dataframe\">\n",
       "  <thead>\n",
       "    <tr style=\"text-align: right;\">\n",
       "      <th></th>\n",
       "      <th>Card Type</th>\n",
       "      <th>Exp Type</th>\n",
       "      <th>Date</th>\n",
       "      <th>Amount</th>\n",
       "    </tr>\n",
       "  </thead>\n",
       "  <tbody>\n",
       "    <tr>\n",
       "      <th>2673</th>\n",
       "      <td>Signature</td>\n",
       "      <td>Bills</td>\n",
       "      <td>2015-02-15</td>\n",
       "      <td>2376322</td>\n",
       "    </tr>\n",
       "    <tr>\n",
       "      <th>3834</th>\n",
       "      <td>Silver</td>\n",
       "      <td>Bills</td>\n",
       "      <td>2014-03-25</td>\n",
       "      <td>2241505</td>\n",
       "    </tr>\n",
       "    <tr>\n",
       "      <th>3977</th>\n",
       "      <td>Silver</td>\n",
       "      <td>Bills</td>\n",
       "      <td>2015-01-30</td>\n",
       "      <td>1823778</td>\n",
       "    </tr>\n",
       "    <tr>\n",
       "      <th>2477</th>\n",
       "      <td>Signature</td>\n",
       "      <td>Bills</td>\n",
       "      <td>2013-12-07</td>\n",
       "      <td>1723162</td>\n",
       "    </tr>\n",
       "    <tr>\n",
       "      <th>2561</th>\n",
       "      <td>Signature</td>\n",
       "      <td>Bills</td>\n",
       "      <td>2014-07-01</td>\n",
       "      <td>1619530</td>\n",
       "    </tr>\n",
       "    <tr>\n",
       "      <th>...</th>\n",
       "      <td>...</td>\n",
       "      <td>...</td>\n",
       "      <td>...</td>\n",
       "      <td>...</td>\n",
       "    </tr>\n",
       "    <tr>\n",
       "      <th>3763</th>\n",
       "      <td>Silver</td>\n",
       "      <td>Bills</td>\n",
       "      <td>2013-10-27</td>\n",
       "      <td>228689</td>\n",
       "    </tr>\n",
       "    <tr>\n",
       "      <th>3974</th>\n",
       "      <td>Silver</td>\n",
       "      <td>Bills</td>\n",
       "      <td>2015-01-21</td>\n",
       "      <td>228626</td>\n",
       "    </tr>\n",
       "    <tr>\n",
       "      <th>3893</th>\n",
       "      <td>Silver</td>\n",
       "      <td>Bills</td>\n",
       "      <td>2014-08-10</td>\n",
       "      <td>228355</td>\n",
       "    </tr>\n",
       "    <tr>\n",
       "      <th>3903</th>\n",
       "      <td>Silver</td>\n",
       "      <td>Bills</td>\n",
       "      <td>2014-08-26</td>\n",
       "      <td>228302</td>\n",
       "    </tr>\n",
       "    <tr>\n",
       "      <th>3954</th>\n",
       "      <td>Silver</td>\n",
       "      <td>Bills</td>\n",
       "      <td>2014-12-19</td>\n",
       "      <td>228081</td>\n",
       "    </tr>\n",
       "  </tbody>\n",
       "</table>\n",
       "<p>542 rows × 4 columns</p>\n",
       "</div>"
      ],
      "text/plain": [
       "      Card Type Exp Type       Date   Amount\n",
       "2673  Signature    Bills 2015-02-15  2376322\n",
       "3834     Silver    Bills 2014-03-25  2241505\n",
       "3977     Silver    Bills 2015-01-30  1823778\n",
       "2477  Signature    Bills 2013-12-07  1723162\n",
       "2561  Signature    Bills 2014-07-01  1619530\n",
       "...         ...      ...        ...      ...\n",
       "3763     Silver    Bills 2013-10-27   228689\n",
       "3974     Silver    Bills 2015-01-21   228626\n",
       "3893     Silver    Bills 2014-08-10   228355\n",
       "3903     Silver    Bills 2014-08-26   228302\n",
       "3954     Silver    Bills 2014-12-19   228081\n",
       "\n",
       "[542 rows x 4 columns]"
      ]
     },
     "execution_count": 82,
     "metadata": {},
     "output_type": "execute_result"
    }
   ],
   "source": [
    "\n",
    "amountfraud = data5.loc[(data5['Amount'] > 228050)].sort_values(by='Amount',ascending=False).groupby(by=['Card Type','Exp Type','Date']).sum();\n",
    "amountfraud = amountfraud.reset_index();amountfraud\n",
    "fraud = amountfraud.loc[(amountfraud['Amount'] > 228050) & (amountfraud['Exp Type'] == 'Bills') & ((amountfraud['Card Type'] =='Silver') | (amountfraud['Card Type'] =='Signature'))].sort_values(by='Amount',ascending=False)\n",
    "fraud.to_excel('fraud.xlsx')\n",
    "fraud"
   ]
  },
  {
   "cell_type": "code",
   "execution_count": 215,
   "metadata": {
    "scrolled": true
   },
   "outputs": [
    {
     "data": {
      "text/html": [
       "<div>\n",
       "<style scoped>\n",
       "    .dataframe tbody tr th:only-of-type {\n",
       "        vertical-align: middle;\n",
       "    }\n",
       "\n",
       "    .dataframe tbody tr th {\n",
       "        vertical-align: top;\n",
       "    }\n",
       "\n",
       "    .dataframe thead th {\n",
       "        text-align: right;\n",
       "    }\n",
       "</style>\n",
       "<table border=\"1\" class=\"dataframe\">\n",
       "  <thead>\n",
       "    <tr style=\"text-align: right;\">\n",
       "      <th>Exp Type</th>\n",
       "      <th>Bills</th>\n",
       "      <th>Entertainment</th>\n",
       "      <th>Food</th>\n",
       "      <th>Fuel</th>\n",
       "      <th>Grocery</th>\n",
       "      <th>Travel</th>\n",
       "    </tr>\n",
       "    <tr>\n",
       "      <th>Card Type</th>\n",
       "      <th></th>\n",
       "      <th></th>\n",
       "      <th></th>\n",
       "      <th></th>\n",
       "      <th></th>\n",
       "      <th></th>\n",
       "    </tr>\n",
       "  </thead>\n",
       "  <tbody>\n",
       "    <tr>\n",
       "      <th>Gold</th>\n",
       "      <td>121284189</td>\n",
       "      <td>68326010</td>\n",
       "      <td>79075721</td>\n",
       "      <td>80722127</td>\n",
       "      <td>67595687</td>\n",
       "      <td>13373909</td>\n",
       "    </tr>\n",
       "    <tr>\n",
       "      <th>Platinum</th>\n",
       "      <td>118815705</td>\n",
       "      <td>83892849</td>\n",
       "      <td>90134800</td>\n",
       "      <td>76976373</td>\n",
       "      <td>70491891</td>\n",
       "      <td>8605810</td>\n",
       "    </tr>\n",
       "    <tr>\n",
       "      <th>Signature</th>\n",
       "      <td>125518351</td>\n",
       "      <td>81429207</td>\n",
       "      <td>92471641</td>\n",
       "      <td>77346985</td>\n",
       "      <td>78668045</td>\n",
       "      <td>10901564</td>\n",
       "    </tr>\n",
       "    <tr>\n",
       "      <th>Silver</th>\n",
       "      <td>124490998</td>\n",
       "      <td>81974974</td>\n",
       "      <td>86515995</td>\n",
       "      <td>96262415</td>\n",
       "      <td>84377987</td>\n",
       "      <td>12597013</td>\n",
       "    </tr>\n",
       "  </tbody>\n",
       "</table>\n",
       "</div>"
      ],
      "text/plain": [
       "Exp Type       Bills  Entertainment      Food      Fuel   Grocery    Travel\n",
       "Card Type                                                                  \n",
       "Gold       121284189       68326010  79075721  80722127  67595687  13373909\n",
       "Platinum   118815705       83892849  90134800  76976373  70491891   8605810\n",
       "Signature  125518351       81429207  92471641  77346985  78668045  10901564\n",
       "Silver     124490998       81974974  86515995  96262415  84377987  12597013"
      ]
     },
     "execution_count": 215,
     "metadata": {},
     "output_type": "execute_result"
    }
   ],
   "source": [
    "bill = amountfraud.groupby(['Exp Type','Card Type']).sum()\n",
    "bill = bill.reset_index();bill\n",
    "bill =bill.pivot('Card Type','Exp Type','Amount');bill\n"
   ]
  },
  {
   "cell_type": "code",
   "execution_count": 223,
   "metadata": {},
   "outputs": [
    {
     "data": {
      "text/plain": [
       "Text(0.5, 1.0, 'BoxPlot for fraud dataset')"
      ]
     },
     "execution_count": 223,
     "metadata": {},
     "output_type": "execute_result"
    },
    {
     "data": {
      "image/png": "[encoded data removed]",
      "text/plain": [
       "<Figure size 576x504 with 1 Axes>"
      ]
     },
     "metadata": {
      "needs_background": "light"
     },
     "output_type": "display_data"
    }
   ],
   "source": [
    "fig = mat.figure(figsize=(8,7))\n",
    "axis = fig.add_axes([0,0,1,1])\n",
    "\n",
    "axis.boxplot(bill)\n",
    "axis.set_title('BoxPlot for fraud dataset', fontsize=15, pad=10)\n"
   ]
  }
 ],
 "metadata": {
  "kernelspec": {
   "display_name": "Python 3",
   "language": "python",
   "name": "python3"
  },
  "language_info": {
   "codemirror_mode": {
    "name": "ipython",
    "version": 3
   },
   "file_extension": ".py",
   "mimetype": "text/x-python",
   "name": "python",
   "nbconvert_exporter": "python",
   "pygments_lexer": "ipython3",
   "version": "3.8.5"
  }
 },
 "nbformat": 4,
 "nbformat_minor": 4
}
